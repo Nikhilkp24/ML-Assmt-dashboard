{
 "cells": [
  {
   "cell_type": "code",
   "execution_count": null,
   "id": "9e596943",
   "metadata": {},
   "outputs": [],
   "source": [
    "Q1. What does mean by the term \"machine learning\"?"
   ]
  },
  {
   "cell_type": "code",
   "execution_count": null,
   "id": "48d8ca57",
   "metadata": {},
   "outputs": [],
   "source": [
    "Ans1. Machine Learning is the subset of Artificial Intelligence. Machine Learning provides us statistical tools to explore,\n",
    "visualize , analyze and perform prediction and other task with the help of data."
   ]
  },
  {
   "cell_type": "code",
   "execution_count": null,
   "id": "cf03c72e",
   "metadata": {},
   "outputs": [],
   "source": [
    "Q2.Can you think of 4 distinct types of issues where it shines?"
   ]
  },
  {
   "cell_type": "code",
   "execution_count": null,
   "id": "3ef158ef",
   "metadata": {},
   "outputs": [],
   "source": [
    "Ans2. Four different types of issues where Machine Learning works are given below:\n",
    "\n",
    "(1).Identifying Spam : Spam identification is one of the most basic applications of machine learning. Most of our email inboxes also have an unsolicited, bulk, or spam inbox, where our email provider automatically filters unwanted spam emails.\n",
    "\n",
    "But how do they know that the email is spam?\n",
    "\n",
    "They use a trained Machine Learning model to identify all the spam emails based on common characteristics such as the email, subject, and sender content. If you look at your email inbox carefully, you will realize that it is not very hard to pick out spam emails because they look very different from real emails. Machine learning techniques used nowadays can automatically filter these spam emails in a very successful way.\n",
    "\n",
    "Spam detection is one of the best and most common problems solved by Machine Learning. Neural networks employ content-based filtering to classify unwanted emails as spam. These neural networks are quite similar to the brain, with the ability to identify spam emails and messages.\n",
    "\n",
    "Making Product Recommendations : Recommender systems are one of the most characteristic and\n",
    "ubiquitous machine learning use cases in day-to-day life. These systems are used everywhere by search engines, e-commerce websites (Amazon), entertainment platforms (Google Play, Netflix), and multiple web & mobile apps.These recommender systems allow businesses to drive more traffic, increase customer engagement, reduce churn rate, deliver relevant content and boost profits. All such recommended products are based on a machine learning model’s analysis of customer’s behavioral data. It is an excellent way for online retailers to offer extra value and enjoy various upselling opportunities using machine learning.\n",
    "\n",
    "Sentiment Analysis : Sentiment analysis is one of the beneficial and real-time machine learning\n",
    "applications that help determine the emotion or opinion of the speaker or the writer. For instance, if you’ve written a review, email, or any other form of a document, a sentiment analyzer will be able to assess the actual thought and tone of the text. This sentiment analysis application can be used to analyze decision-making applications, review-based websites, and more.\n",
    "\n",
    "Image & Video Recognition : Machines are good at processing images, Machine Learning algorithms\n",
    "can train Deep Learning frameworks to recognize and classify images in the dataset with much more accuracy than humans.Similar to image recognition, companies such as Shutterstock, eBay, Salesforce, Amazon, and Facebook use Machine Learning for video recognition where videos are broken down frame by frame and classified as individual digital images."
   ]
  },
  {
   "cell_type": "code",
   "execution_count": null,
   "id": "ae6bb08a",
   "metadata": {},
   "outputs": [],
   "source": [
    "Q3. What is a labeled training set, and how does it work?"
   ]
  },
  {
   "cell_type": "code",
   "execution_count": null,
   "id": "86f9628b",
   "metadata": {},
   "outputs": [],
   "source": [
    "Ans3. The training data is the biggest (in -size) subset of the original dataset, which is used to train or fit the machine \n",
    "learning model. Firstly, the training data is fed to the ML algorithms, which lets them learn how to make predictions for\n",
    "the given task.\n",
    "\n",
    "The training data varies depending on whether we are using Supervised Learning or Unsupervised Learning Algorithms.\n",
    "\n",
    "For Unsupervised learning, the training data contains unlabeled data points, i.e., inputs are not tagged with the \n",
    "corresponding outputs. Models are required to find the patterns from the given training datasets in order to make \n",
    "predictions.On the other hand, for supervised learning, the training data contains labels in order to train the model \n",
    "and make predictions. The type of training data that we provide to the model is highly responsible for the model's\n",
    "accuracy and prediction ability. It means that the better the quality of the training data, the better will be \n",
    "the performance of the model. Training data is approximately more than or equal to 60% of the total data for an ML project."
   ]
  },
  {
   "cell_type": "code",
   "execution_count": null,
   "id": "95b18120",
   "metadata": {},
   "outputs": [],
   "source": [
    "Q4. What are the two most important tasks that are supervised?"
   ]
  },
  {
   "cell_type": "code",
   "execution_count": null,
   "id": "29a5e2b6",
   "metadata": {},
   "outputs": [],
   "source": [
    "Ans4. Two important task that are supervised are Regression and Classification."
   ]
  },
  {
   "cell_type": "code",
   "execution_count": null,
   "id": "f853029b",
   "metadata": {},
   "outputs": [],
   "source": [
    "Q5.Can you think of four examples of unsupervised tasks ?"
   ]
  },
  {
   "cell_type": "code",
   "execution_count": null,
   "id": "4937aa1e",
   "metadata": {},
   "outputs": [],
   "source": [
    "Ans5: Four common Unsupervised Tasks included Clustering, Visualization, Dimensionality Reduction, and\n",
    "    Association Rule Learning.\n"
   ]
  },
  {
   "cell_type": "code",
   "execution_count": null,
   "id": "dbcbadd3",
   "metadata": {},
   "outputs": [],
   "source": [
    "Q6.State the machine learning model that would be best to make a robot walk through various unfamiliar terrains ?"
   ]
  },
  {
   "cell_type": "code",
   "execution_count": null,
   "id": "0c5a77d0",
   "metadata": {},
   "outputs": [],
   "source": [
    "Ans: The Best Algorithm to Segment Customers into different groups is either Supervised Learning\n",
    "    (if the groups have known labels) or Unsupervised Learning (if there are no group labels)."
   ]
  },
  {
   "cell_type": "code",
   "execution_count": null,
   "id": "72a6b918",
   "metadata": {},
   "outputs": [],
   "source": [
    "Q7.Which algorithm will you use to divide your customers into different groups ?"
   ]
  },
  {
   "cell_type": "code",
   "execution_count": null,
   "id": "746b1a26",
   "metadata": {},
   "outputs": [],
   "source": [
    "Ans: The Best Algorithm to Segment Customers into different groups is either Supervised Learning \n",
    "    (if the groups have known labels) or Unsupervised Learning (if there are no group labels)."
   ]
  },
  {
   "cell_type": "code",
   "execution_count": null,
   "id": "85fa6a2d",
   "metadata": {},
   "outputs": [],
   "source": [
    "Q8.Will you consider the problem of spam detection to be a supervised or unsupervised learning problem ?"
   ]
  },
  {
   "cell_type": "code",
   "execution_count": null,
   "id": "c95bce38",
   "metadata": {},
   "outputs": [],
   "source": [
    "Ans: Spam detection is a Supervised Machine Learning problem because the labels are known (spam or no spam)."
   ]
  },
  {
   "cell_type": "code",
   "execution_count": null,
   "id": "65ac2909",
   "metadata": {},
   "outputs": [],
   "source": [
    "Q9.What is the concept of an online learning system ?"
   ]
  },
  {
   "cell_type": "code",
   "execution_count": null,
   "id": "ef8c4ec0",
   "metadata": {},
   "outputs": [],
   "source": [
    "Ans: Online learning system is a learning system in which the machine learns continously, as data is given in small \n",
    "     streams continuously."
   ]
  },
  {
   "cell_type": "code",
   "execution_count": null,
   "id": "3ad719ed",
   "metadata": {},
   "outputs": [],
   "source": [
    "Q10.What is out-of-core learning, and how does it differ from core learning ?"
   ]
  },
  {
   "cell_type": "code",
   "execution_count": null,
   "id": "46c13438",
   "metadata": {},
   "outputs": [],
   "source": [
    "Ans: Out-of-core learning system is a system that can handle data that cannot fit into our computer memory.\n",
    "    It uses online learning system to feed data in small bits."
   ]
  },
  {
   "cell_type": "code",
   "execution_count": null,
   "id": "09c54290",
   "metadata": {},
   "outputs": [],
   "source": [
    "Q11.What kind of learning algorithm makes predictions using a similarity measure ?"
   ]
  },
  {
   "cell_type": "code",
   "execution_count": null,
   "id": "8bd10585",
   "metadata": {},
   "outputs": [],
   "source": [
    "Ans: Learning algorithm that relies on a similarity measure to make predictions is Instance Based Algorithm. \n",
    "    The Machine Learning systems which are categorized as instance-based learning are the systems that learn the training \n",
    "    examples by heart and then generalizes to new instances based on some similarity measure. It is called instance-based \n",
    "    because it builds the hypotheses from the training instances. It is also known as memory-based learning or lazy-learning. \n",
    "    The time complexity of this algorithm depends upon the size of training data. The worst-case time complexity of this \n",
    "    algorithm is O (n), where n is the number of training instances.\n",
    "\n",
    "For example, If we were to create a spam filter with an instance-based learning algorithm, instead of just flagging emails that\n",
    "are already marked as spam emails, our spam filter would be programmed to also flag emails that are very similar to them. \n",
    "This requires a measure of resemblance between two emails. A similarity measure between two emails could be the same sender \n",
    "or the repetitive use of the same keywords or something else."
   ]
  },
  {
   "cell_type": "code",
   "execution_count": null,
   "id": "5496881a",
   "metadata": {},
   "outputs": [],
   "source": [
    "Q12.What's the difference between a model parameter and a hyperparameter in a learning algorithm ?"
   ]
  },
  {
   "cell_type": "code",
   "execution_count": null,
   "id": "94600120",
   "metadata": {},
   "outputs": [],
   "source": [
    "Ans: Model parameter determines how a model will predict given a new instance. Model usually has more than one parameter \n",
    "    (i.e. slope of a linear model). Hyperparameter is a parameter for the learning algorithm, not of a model. Model parameters\n",
    "    are estimated based on the data during model training and model hyperparameters are set manually and are used in processes\n",
    "    to help estimate model parameters. Model hyperparameters are often referred to as parameters because they are the parts of \n",
    "    the machine learning that must be set manually and tuned.\n",
    "    "
   ]
  },
  {
   "cell_type": "code",
   "execution_count": null,
   "id": "a34933a5",
   "metadata": {},
   "outputs": [],
   "source": [
    "Q13.What are the criteria that model-based learning algorithms look for? \n",
    "What is the most popular method they use to achieve success? What method do they use to make predictions ?"
   ]
  },
  {
   "cell_type": "code",
   "execution_count": null,
   "id": "7dc38b97",
   "metadata": {},
   "outputs": [],
   "source": [
    "Ans: Model based learning algorithm search for the optimal value of parameters in a model that will give the best results \n",
    "    for the new instances. We often use a cost function or similar to determine what the parameter value has to be in order\n",
    "    to minimize the function. The model makes prediction by using the value of the new instance and the parameters in its \n",
    "    function. The goal for a model-based algorithm is to be able to generalize to new examples. To do this, model based \n",
    "    algorithms search for optimal values for the model's parameters, often called theta. This searching, or \"learning\",\n",
    "    is what machine learning is all about. Model-based system learn by minimizing a cost function that measures how bad\n",
    "    the system is at making predicitons on new data, plus a penalty for model complexity if the model is regularized. \n",
    "    To make a prediction, a new instance's features are fed into a hypothesis function which uses the minimized theta \n",
    "    found by repeatedly running the cost function.\n",
    "    "
   ]
  },
  {
   "cell_type": "code",
   "execution_count": null,
   "id": "0c0cc083",
   "metadata": {},
   "outputs": [],
   "source": [
    "Q14.Can you name four of the most important Machine Learning challenges ?"
   ]
  },
  {
   "cell_type": "code",
   "execution_count": null,
   "id": "8deaa952",
   "metadata": {},
   "outputs": [],
   "source": [
    "Ans: Four main challenges in Machine Learning include the following:\n",
    "\n",
    "1.Overfitting the Data (using a model too complicated)\n",
    "\n",
    "2.Underfitting the data (using a simple model)\n",
    "\n",
    "3.Lacking in Data\n",
    "\n",
    "4.Non Representative Data."
   ]
  },
  {
   "cell_type": "code",
   "execution_count": null,
   "id": "843739ac",
   "metadata": {},
   "outputs": [],
   "source": [
    "Q15.What happens if the model performs well on the training data but fails to generalize the results to new situations?\n",
    "Can you think of three different options ?"
   ]
  },
  {
   "cell_type": "code",
   "execution_count": null,
   "id": "38e4487b",
   "metadata": {},
   "outputs": [],
   "source": [
    "Ans: If the model performs poorly to new instances, then it has overfitted on the training data. To solve this, we can do any of the following three:\n",
    "\n",
    "Get more data, Implement a simpler model, Eliminate outliers or noise from the existing data set."
   ]
  },
  {
   "cell_type": "code",
   "execution_count": null,
   "id": "e5618720",
   "metadata": {},
   "outputs": [],
   "source": [
    "Q16.What exactly is a test set, and why would you need one ?"
   ]
  },
  {
   "cell_type": "code",
   "execution_count": null,
   "id": "fc7a9086",
   "metadata": {},
   "outputs": [],
   "source": [
    "Ans: Test set is a set to test your model (fit using training data) to see how it performs.Test set is necessary to determine how good (or bad) a model performs. When we want to know how well our model generalizes to new cases we prefer to use a test set instead of actually deploying the system. To build the test set we split the training data (50-50, 60-40, 80-20 are common splits) into a training set and test set. Our model is training with the training set. Then we use the model to run predictions on the test set. Our error rate on the test set is called the generalization error or out-of-sample error. This error tells us how well our model performs on examples it has never seen before.\n",
    "\n",
    "If the training error is low, but the generalization error is high, it means we're overfitting our model."
   ]
  },
  {
   "cell_type": "code",
   "execution_count": null,
   "id": "dffe351b",
   "metadata": {},
   "outputs": [],
   "source": [
    "Q17.What is a validation set's purpose ?"
   ]
  },
  {
   "cell_type": "code",
   "execution_count": null,
   "id": "88516665",
   "metadata": {},
   "outputs": [],
   "source": [
    "Ans: Validation set is a set used to compare between different training models. Let's say we have a linear model and we want to perform some hyperparameter tuning to reduce the generalization error. One way to do this 100 different models with 100 different hyperparameter values using the training set and finding the generalization error with the test set. You find the best hyperparameter value gives you 5% generalization error.\n",
    "\n",
    "So you launch the model into production and find you're seeing 15% generalization error. This isn't going as expected. What happened?\n",
    "\n",
    "The problem is that for each iteration of hyperparameter tuning, you measured the generalization error then updated the model using the same test set. In other words, your produced the best generalization error for the test set. The test set no longer represents cases the model hasn't seen before.\n",
    "\n",
    "A common solution to this problem is to have a second holdout set called the validation set. You train multiple models with various hyperparameters using the training set, you select the model and hyperparameters that perform best on the validation set, and when you are happy about your model you run a single final test against the test set to get an estimate of the generalization error."
   ]
  },
  {
   "cell_type": "code",
   "execution_count": null,
   "id": "31af495e",
   "metadata": {},
   "outputs": [],
   "source": [
    "Q18.What precisely is the train-dev kit, when will you need it, how do you put it to use ?"
   ]
  },
  {
   "cell_type": "code",
   "execution_count": null,
   "id": "9120c58a",
   "metadata": {},
   "outputs": [],
   "source": [
    "Ans: Cross-validation is a tool to compare models without needing a separate validation set. \n",
    "    It is preferred over validation set because we can save from breaking of part of the training set to create a \n",
    "    validation set, as having more data is valuable regardless."
   ]
  },
  {
   "cell_type": "code",
   "execution_count": null,
   "id": "6837c0da",
   "metadata": {},
   "outputs": [],
   "source": [
    "Q19.What could go wrong if you use the test set to tune hyperparameters ?"
   ]
  },
  {
   "cell_type": "code",
   "execution_count": null,
   "id": "5d20f909",
   "metadata": {},
   "outputs": [],
   "source": [
    "Ans: If you tune hyperparameters using the test sets, then it may not perform well on the out-of-sample data because\n",
    "    the model is tuned just for that specific set.Our model will not be generalizable to new examples."
   ]
  },
  {
   "cell_type": "code",
   "execution_count": null,
   "id": "31eba65e",
   "metadata": {},
   "outputs": [],
   "source": []
  },
  {
   "cell_type": "code",
   "execution_count": null,
   "id": "894f652d",
   "metadata": {},
   "outputs": [],
   "source": []
  }
 ],
 "metadata": {
  "kernelspec": {
   "display_name": "Python 3 (ipykernel)",
   "language": "python",
   "name": "python3"
  },
  "language_info": {
   "codemirror_mode": {
    "name": "ipython",
    "version": 3
   },
   "file_extension": ".py",
   "mimetype": "text/x-python",
   "name": "python",
   "nbconvert_exporter": "python",
   "pygments_lexer": "ipython3",
   "version": "3.9.13"
  }
 },
 "nbformat": 4,
 "nbformat_minor": 5
}
